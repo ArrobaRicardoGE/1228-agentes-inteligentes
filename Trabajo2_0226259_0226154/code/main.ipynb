{
 "cells": [
  {
   "cell_type": "code",
   "execution_count": 2,
   "metadata": {},
   "outputs": [],
   "source": [
    "import cv2\n",
    "import numpy as np\n",
    "from matplotlib import pyplot as plt\n",
    "from matplotlib.pyplot import figure\n",
    "import math\n",
    "from queue import Queue"
   ]
  },
  {
   "cell_type": "code",
   "execution_count": 3,
   "metadata": {},
   "outputs": [],
   "source": [
    "def setupPlots(numberPlots=1):\n",
    "    r\"\"\"Setups a figure and returns the figure and axis. \n",
    "    Receives the number of plots\"\"\"\n",
    "    x = min(2, numberPlots)\n",
    "    y = int((numberPlots+1)/2) \n",
    "    #_ = figure(figsize=(10*x, y*6), dpi=80)\n",
    "    fig, ax = plt.subplots(y,x, squeeze=False, figsize=(10*x, y*6), dpi=80)\n",
    "    ax2 = []\n",
    "    it = 0\n",
    "    for yy in ax:\n",
    "        for xx in yy:\n",
    "            if(it == numberPlots):\n",
    "                break\n",
    "            ax2.append(xx)\n",
    "            it += 1\n",
    "            \n",
    "\n",
    "    return fig, ax2"
   ]
  },
  {
   "cell_type": "code",
   "execution_count": 4,
   "metadata": {},
   "outputs": [],
   "source": [
    "def thresholdImage(img, range :tuple, value, remain = True):\n",
    "    r\"\"\"Receives a single channel Image, a range, and the substitute value. Elements inside (inclusive)\n",
    "    that range, gets their values replaced by the value specified.\n",
    "    If remain==True, the remaining pixels conserve its value, otherwise the remaining pixels are reset 2 zero\"\"\"\n",
    "\n",
    "    mask = np.bitwise_and(img<=range[1], img>=range[0])\n",
    "    mask2 = np.bitwise_not(mask)\n",
    "    if(remain == False):\n",
    "        return mask*value\n",
    "    else:\n",
    "        return mask*value + img*mask2"
   ]
  },
  {
   "cell_type": "code",
   "execution_count": 43,
   "metadata": {},
   "outputs": [],
   "source": [
    "def Dilatation(kernel, img):\n",
    "    r''' Los que se salen del kernel, son 0'''\n",
    "    #print(img.size)\n",
    "    #print(img)\n",
    "    N = img.shape[0]\n",
    "    M = img.shape[1]\n",
    "\n",
    "    kN = kernel.shape[0]\n",
    "    kM = kernel.shape[1]\n",
    "\n",
    "    kernel = np.array(kernel, dtype=int)\n",
    "    base = np.count_nonzero(kernel)\n",
    "\n",
    "    ans = np.ones(img.shape)*255\n",
    "    for i in range(0+kN-1,N):\n",
    "        for j in range(0+kM-1, M):\n",
    "            #print(i, j, i-kN+1, j-kM+1, j+1, kernel.shape)\n",
    "            imgKern = np.array(img[i-kN+1:i+1, j-kM+1:j+1], dtype=int)\n",
    "            ##imgKern = img[0:5,0:5]\n",
    "            \n",
    "            #print(imgKern)\n",
    "            imgCheck = imgKern + kernel\n",
    "            imgCheck -= np.ones(imgKern.shape, dtype=int)*255*2\n",
    "            cc = np.count_nonzero(imgCheck==0)\n",
    "            if(cc > 0):\n",
    "                ans[i-int(kN/2)][j-int(kM/2)] = 255\n",
    "            else:\n",
    "                ans[i-int(kN/2)][j-int(kM/2)] = 0\n",
    "    return ans\n",
    "\n",
    "            "
   ]
  },
  {
   "cell_type": "code",
   "execution_count": 6,
   "metadata": {},
   "outputs": [],
   "source": [
    "def Erosion(kernel, img):\n",
    "    r''' Los que se salen del kernel, son 0'''\n",
    "    #print(img.size)\n",
    "    #print(img)\n",
    "    N = img.shape[0]\n",
    "    M = img.shape[1]\n",
    "\n",
    "    kN = kernel.shape[0]\n",
    "    kM = kernel.shape[1]\n",
    "\n",
    "    kernel = np.array(kernel, dtype=int)\n",
    "    base = np.count_nonzero(kernel)\n",
    "    #print(base)\n",
    "    ans = np.zeros(img.shape)\n",
    "    for i in range(0+kN-1,N):\n",
    "        for j in range(0+kM-1, M):\n",
    "            #print(i, j, i-kN+1, j-kM+1, j+1, kernel.shape)\n",
    "            imgKern = np.array(img[i-kN+1:i+1, j-kM+1:j+1], dtype=int)\n",
    "            ##imgKern = img[0:5,0:5]\n",
    "            \n",
    "            #print(imgKern)\n",
    "            #print(imgKern)\n",
    "            imgCheck = imgKern + kernel\n",
    "            #print(imgCheck)\n",
    "            imgCheck -= np.ones(imgKern.shape, dtype=int)*255*2\n",
    "            cc = np.count_nonzero(imgCheck==0)\n",
    "            #print(imgCheck)\n",
    "            #return ans\n",
    "            if(base == cc):\n",
    "                ans[i-int(kN/2)][j-int(kM/2)] = 255\n",
    "    return ans\n",
    "\n",
    "            "
   ]
  },
  {
   "cell_type": "code",
   "execution_count": 32,
   "metadata": {},
   "outputs": [],
   "source": [
    "def negateImage(img, K=255):\n",
    "    r\"\"\"Returns negated version of image in uint8!!!\"\"\"\n",
    "    img2 = np.int16(img)\n",
    "    img2 = img2*-1+K\n",
    "    return np.uint8(img2)"
   ]
  },
  {
   "cell_type": "code",
   "execution_count": null,
   "metadata": {},
   "outputs": [],
   "source": []
  },
  {
   "cell_type": "code",
   "execution_count": 36,
   "metadata": {},
   "outputs": [
    {
     "data": {
      "image/png": "[encoded data removed]",
      "text/plain": [
       "<Figure size 800x480 with 1 Axes>"
      ]
     },
     "metadata": {
      "needs_background": "light"
     },
     "output_type": "display_data"
    }
   ],
   "source": [
    "imgNames = ['ejemplo1.png']\n",
    "imgPath = '../dataset/'\n",
    "imgs = []\n",
    "N = len(imgNames)\n",
    "for imgName in imgNames:\n",
    "    imgBGR = cv2.imread(imgPath + imgName)\n",
    "    imgBW = cv2.cvtColor(imgBGR, cv2.COLOR_BGR2GRAY)\n",
    "    imgs.append(imgBW)\n",
    "fig, ax = setupPlots(N)\n",
    "for axes, img, name in zip(ax, imgs, imgNames):\n",
    "    axes.imshow(img, cmap = 'gray')\n",
    "    axes.set_title(name)"
   ]
  },
  {
   "cell_type": "code",
   "execution_count": 37,
   "metadata": {},
   "outputs": [
    {
     "data": {
      "image/png": "[encoded data removed]",
      "text/plain": [
       "<Figure size 800x480 with 1 Axes>"
      ]
     },
     "metadata": {
      "needs_background": "light"
     },
     "output_type": "display_data"
    }
   ],
   "source": [
    "imgs2 = []\n",
    "for img in imgs:\n",
    "    imgs2.append(negateImage(thresholdImage(thresholdImage(img, (0,250), 0, remain=True), (251,255), 255, remain=True)))\n",
    "\n",
    "imgs = imgs2\n",
    "fig, ax = setupPlots(N)\n",
    "for axes, img, name in zip(ax, imgs2, imgNames):\n",
    "    axes.imshow(img, cmap = 'gray')\n",
    "    axes.set_title(name)\n",
    "\n",
    "#print(imgs[0])"
   ]
  },
  {
   "cell_type": "code",
   "execution_count": 55,
   "metadata": {},
   "outputs": [],
   "source": [
    "def getCols(n,m, start, stop, img):\n",
    "    x,y = img.shape\n",
    "    stop -= start\n",
    "    number = int(y/(n+m))+1\n",
    "    cols = np.zeros((number,x))\n",
    "    print(img.shape)\n",
    "    print(cols.shape)\n",
    "    for i in range(number):\n",
    "        cols[i] = img[:, start]\n",
    "        start += n+m\n",
    "    return cols"
   ]
  },
  {
   "cell_type": "code",
   "execution_count": 39,
   "metadata": {},
   "outputs": [
    {
     "data": {
      "image/png": "[encoded data removed]",
      "text/plain": [
       "<Figure size 800x480 with 1 Axes>"
      ]
     },
     "metadata": {
      "needs_background": "light"
     },
     "output_type": "display_data"
    }
   ],
   "source": [
    "imgs[0] = imgs[0][64:220, 151:525]\n",
    "\n",
    "\n",
    "#imgs = imgs2\n",
    "fig, ax = setupPlots(N)\n",
    "for axes, img, name in zip(ax, imgs, imgNames):\n",
    "    axes.imshow(img, cmap = 'gray')\n",
    "    axes.set_title(name)\n",
    "\n",
    "#print(imgs[0])"
   ]
  },
  {
   "cell_type": "code",
   "execution_count": 42,
   "metadata": {},
   "outputs": [
    {
     "data": {
      "image/png": "[encoded data removed]",
      "text/plain": [
       "<Figure size 800x480 with 1 Axes>"
      ]
     },
     "metadata": {
      "needs_background": "light"
     },
     "output_type": "display_data"
    }
   ],
   "source": [
    "fig, ax = setupPlots(1)\n",
    "kernel = np.ones((5,5))*255\n",
    "imgsAntesMorir = imgs[0]\n",
    "for i in range(50):\n",
    "    imgs[0] = Dilatation(kernel, Erosion(kernel, imgs[0])) # opening\n",
    "ax[0].imshow(imgs[0], cmap='gray')\n",
    "ax[0].set_title('AFter Opening')\n",
    "\n",
    "plt.show()"
   ]
  },
  {
   "cell_type": "code",
   "execution_count": 44,
   "metadata": {},
   "outputs": [
    {
     "data": {
      "image/png": "[encoded data removed]",
      "text/plain": [
       "<Figure size 800x480 with 1 Axes>"
      ]
     },
     "metadata": {
      "needs_background": "light"
     },
     "output_type": "display_data"
    }
   ],
   "source": [
    "fig, ax = setupPlots(1)\n",
    "kernel = np.ones((5,5))*255\n",
    "imgsAntesMorir = imgs[0]\n",
    "for i in range(5):\n",
    "    imgs[0] = Dilatation(kernel, imgs[0]) # opening\n",
    "ax[0].imshow(imgs[0], cmap='gray')\n",
    "ax[0].set_title('AFter Opening')\n",
    "\n",
    "plt.show()"
   ]
  },
  {
   "cell_type": "code",
   "execution_count": 45,
   "metadata": {},
   "outputs": [
    {
     "data": {
      "image/png": "[encoded data removed]",
      "text/plain": [
       "<Figure size 800x480 with 1 Axes>"
      ]
     },
     "metadata": {
      "needs_background": "light"
     },
     "output_type": "display_data"
    }
   ],
   "source": [
    "imgs[0] = imgsAntesMorir\n",
    "fig, ax = setupPlots(1)\n",
    "ax[0].imshow(imgs[0], cmap='gray')\n",
    "ax[0].set_title('AFter Opening')\n",
    "plt.show()"
   ]
  },
  {
   "cell_type": "code",
   "execution_count": 60,
   "metadata": {},
   "outputs": [
    {
     "name": "stdout",
     "output_type": "stream",
     "text": [
      "(156, 374)\n",
      "(5, 156)\n",
      "[[  0.   0. 255. 255. 255. 255. 255. 255. 255. 255. 255. 255. 255. 255.\n",
      "  255. 255. 255. 255. 255. 255. 255. 255. 255. 255. 255. 255. 255. 255.\n",
      "  255. 255. 255. 255. 255. 255. 255. 255. 255. 255. 255. 255. 255. 255.\n",
      "  255. 255. 255. 255. 255. 255. 255. 255. 255. 255. 255. 255. 255. 255.\n",
      "  255. 255. 255. 255. 255. 255. 255. 255. 255. 255. 255. 255. 255. 255.\n",
      "  255. 255. 255. 255. 255. 255. 255. 255. 255. 255. 255. 255. 255. 255.\n",
      "  255. 255. 255. 255. 255. 255. 255. 255. 255. 255. 255. 255. 255. 255.\n",
      "  255. 255. 255. 255. 255. 255. 255. 255. 255. 255. 255. 255. 255. 255.\n",
      "  255. 255. 255. 255. 255. 255. 255. 255. 255. 255. 255. 255. 255. 255.\n",
      "  255. 255. 255. 255. 255. 255. 255. 255. 255. 255. 255. 255. 255. 255.\n",
      "  255. 255. 255. 255. 255. 255. 255. 255. 255. 255. 255. 255. 255. 255.\n",
      "    0.   0.]\n",
      " [  0.   0.   0.   0.   0.   0.   0.   0.   0.   0.   0.   0.   0.   0.\n",
      "    0.   0.   0.   0.   0.   0.   0.   0.   0.   0.   0.   0.   0.   0.\n",
      "    0.   0.   0.   0.   0.   0.   0.   0.   0.   0.   0.   0.   0.   0.\n",
      "    0.   0.   0.   0.   0.   0.   0.   0.   0.   0.   0.   0.   0.   0.\n",
      "    0.   0.   0.   0.   0.   0.   0.   0.   0.   0.   0.   0.   0.   0.\n",
      "    0.   0.   0.   0.   0.   0.   0.   0.   0.   0.   0.   0.   0.   0.\n",
      "    0.   0.   0.   0.   0.   0.   0.   0.   0. 255. 255. 255. 255. 255.\n",
      "  255. 255. 255. 255. 255. 255. 255. 255. 255. 255. 255. 255. 255. 255.\n",
      "  255. 255. 255. 255. 255. 255. 255. 255. 255. 255. 255. 255. 255. 255.\n",
      "  255. 255. 255. 255. 255. 255. 255. 255. 255. 255. 255. 255. 255. 255.\n",
      "  255. 255. 255. 255. 255. 255. 255. 255. 255. 255. 255. 255. 255. 255.\n",
      "    0.   0.]\n",
      " [  0.   0.   0.   0.   0.   0.   0.   0.   0.   0.   0.   0.   0.   0.\n",
      "    0.   0.   0.   0.   0.   0.   0.   0.   0.   0.   0.   0.   0.   0.\n",
      "    0.   0.   0.   0.   0.   0.   0.   0.   0.   0.   0.   0.   0.   0.\n",
      "    0.   0.   0.   0.   0.   0.   0.   0.   0.   0.   0.   0.   0.   0.\n",
      "    0.   0.   0.   0.   0. 255. 255. 255. 255. 255. 255. 255. 255. 255.\n",
      "  255. 255. 255. 255. 255. 255. 255. 255. 255. 255. 255. 255. 255. 255.\n",
      "  255. 255. 255. 255. 255. 255. 255. 255. 255. 255. 255. 255. 255. 255.\n",
      "  255. 255. 255. 255. 255. 255. 255. 255. 255. 255. 255. 255. 255. 255.\n",
      "  255. 255. 255. 255. 255. 255. 255. 255. 255. 255. 255. 255. 255. 255.\n",
      "  255. 255. 255. 255. 255. 255. 255. 255. 255. 255. 255. 255. 255. 255.\n",
      "  255. 255. 255. 255. 255. 255. 255. 255. 255. 255. 255. 255. 255. 255.\n",
      "    0.   0.]\n",
      " [  0.   0. 255. 255. 255. 255. 255. 255. 255. 255. 255. 255. 255. 255.\n",
      "  255. 255. 255. 255. 255. 255. 255. 255. 255. 255. 255. 255. 255. 255.\n",
      "  255. 255. 255. 255. 255. 255. 255. 255. 255. 255. 255. 255. 255. 255.\n",
      "  255. 255. 255. 255. 255. 255. 255. 255. 255. 255. 255. 255. 255. 255.\n",
      "  255. 255. 255. 255. 255. 255. 255. 255. 255. 255. 255. 255. 255. 255.\n",
      "  255. 255. 255. 255. 255. 255. 255. 255. 255. 255. 255. 255. 255. 255.\n",
      "  255. 255. 255. 255. 255. 255. 255. 255. 255. 255. 255. 255. 255. 255.\n",
      "  255. 255. 255. 255. 255. 255. 255. 255. 255. 255. 255. 255. 255. 255.\n",
      "  255. 255. 255. 255. 255. 255. 255. 255. 255. 255. 255. 255. 255. 255.\n",
      "  255. 255. 255. 255. 255. 255. 255. 255. 255. 255. 255. 255. 255. 255.\n",
      "  255. 255. 255. 255. 255. 255. 255. 255. 255. 255. 255. 255. 255. 255.\n",
      "    0.   0.]\n",
      " [  0.   0.   0.   0.   0.   0.   0.   0.   0.   0.   0.   0.   0.   0.\n",
      "    0.   0.   0.   0.   0.   0.   0.   0.   0.   0.   0.   0.   0.   0.\n",
      "    0.   0. 255. 255. 255. 255. 255. 255. 255. 255. 255. 255. 255. 255.\n",
      "  255. 255. 255. 255. 255. 255. 255. 255. 255. 255. 255. 255. 255. 255.\n",
      "  255. 255. 255. 255. 255. 255. 255. 255. 255. 255. 255. 255. 255. 255.\n",
      "  255. 255. 255. 255. 255. 255. 255. 255. 255. 255. 255. 255. 255. 255.\n",
      "  255. 255. 255. 255. 255. 255. 255. 255. 255. 255. 255. 255. 255. 255.\n",
      "  255. 255. 255. 255. 255. 255. 255. 255. 255. 255. 255. 255. 255. 255.\n",
      "  255. 255. 255. 255. 255. 255. 255. 255. 255. 255. 255. 255. 255. 255.\n",
      "  255. 255. 255. 255. 255. 255. 255. 255. 255. 255. 255. 255. 255. 255.\n",
      "  255. 255. 255. 255. 255. 255. 255. 255. 255. 255. 255. 255. 255. 255.\n",
      "    0.   0.]]\n",
      "5\n"
     ]
    }
   ],
   "source": [
    "a = getCols(54,27,20,imgs[0].shape[1], imgs[0])\n",
    "print(a)\n",
    "print(len(a))"
   ]
  },
  {
   "cell_type": "code",
   "execution_count": 90,
   "metadata": {},
   "outputs": [
    {
     "name": "stdout",
     "output_type": "stream",
     "text": [
      "(5, 136)\n",
      "[[  0.   0.   0.   0.   0.   0.   0.   0.   0.   0.   0.   0.   0.   0.\n",
      "    0.   0.   0.   0.   0.   0.   0.   0.   0.   0.   0.   0.   0.   0.\n",
      "    0.   0.   0.   0.   0.   0.   0.   0.   0.   0.   0.   0.   0.   0.\n",
      "    0.   0.   0.   0.   0.   0.   0.   0.   0.   0.   0.   0.   0.   0.\n",
      "    0.   0.   0.   0.   0.   0.   0.   0.   0.   0.   0. 255.   0.   0.\n",
      "    0.   0.   0.   0.   0.   0.   0.   0.   0.   0.   0.   0.   0.   0.\n",
      "    0.   0.   0.   0.   0.   0.   0.   0.   0.   0.   0.   0.   0.   0.\n",
      "    0.   0.   0.   0.   0.   0.   0.   0.   0.   0.   0.   0.   0.   0.\n",
      "    0.   0.   0.   0.   0.   0.   0.   0.   0.   0.   0.   0.   0.   0.\n",
      "    0.   0.   0.   0.   0.   0.   0.   0.   0.]\n",
      " [  0.   0.   0.   0.   0.   0.   0.   0.   0.   0.   0.   0.   0.   0.\n",
      "    0.   0.   0.   0.   0.   0.   0.   0.   0.   0.   0.   0.   0.   0.\n",
      "    0.   0.   0.   0.   0.   0.   0.   0.   0.   0.   0.   0.   0.   0.\n",
      "    0.   0.   0.   0.   0.   0.   0.   0.   0.   0.   0.   0.   0.   0.\n",
      "    0.   0.   0.   0.   0.   0.   0.   0.   0.   0.   0.   0.   0.   0.\n",
      "    0.   0.   0.   0.   0.   0.   0.   0.   0.   0.   0.   0.   0.   0.\n",
      "    0.   0.   0.   0.   0.   0.   0.   0.   0.   0.   0.   0.   0.   0.\n",
      "    0.   0.   0.   0.   0.   0.   0.   0.   0.   0.   0.   0.   0.   0.\n",
      "    0.   0.   0.   0.   0.   0.   0.   0.   0.   0.   0.   0.   0.   0.\n",
      "    0.   0.   0.   0.   0.   0.   0.   0.   0.]\n",
      " [  0.   0.   0.   0.   0.   0.   0.   0.   0.   0.   0.   0.   0.   0.\n",
      "    0.   0.   0.   0.   0.   0.   0.   0.   0.   0.   0.   0.   0.   0.\n",
      "    0.   0.   0.   0.   0.   0.   0.   0.   0.   0.   0.   0.   0.   0.\n",
      "    0.   0.   0.   0.   0.   0.   0.   0.   0.   0.   0.   0.   0.   0.\n",
      "    0.   0.   0.   0.   0.   0.   0.   0.   0.   0.   0.   0.   0.   0.\n",
      "    0.   0.   0.   0.   0.   0.   0.   0.   0.   0.   0.   0.   0.   0.\n",
      "    0.   0.   0.   0.   0.   0.   0.   0.   0.   0.   0.   0.   0.   0.\n",
      "    0.   0.   0.   0.   0.   0.   0.   0.   0.   0.   0.   0.   0.   0.\n",
      "    0.   0.   0.   0.   0.   0.   0.   0.   0.   0.   0.   0.   0.   0.\n",
      "    0.   0.   0.   0.   0.   0.   0.   0.   0.]\n",
      " [  0.   0.   0.   0.   0.   0.   0.   0.   0.   0.   0.   0.   0.   0.\n",
      "    0.   0.   0.   0.   0.   0.   0.   0.   0.   0.   0.   0.   0.   0.\n",
      "    0.   0.   0.   0.   0.   0.   0.   0.   0.   0.   0.   0.   0.   0.\n",
      "    0.   0.   0.   0.   0.   0.   0.   0.   0.   0.   0.   0.   0.   0.\n",
      "    0.   0.   0.   0.   0.   0.   0.   0.   0.   0.   0. 255.   0.   0.\n",
      "    0.   0.   0.   0.   0.   0.   0.   0.   0.   0.   0.   0.   0.   0.\n",
      "    0.   0.   0.   0.   0.   0.   0.   0.   0.   0.   0.   0.   0.   0.\n",
      "    0.   0.   0.   0.   0.   0.   0.   0.   0.   0.   0.   0.   0.   0.\n",
      "    0.   0.   0.   0.   0.   0.   0.   0.   0.   0.   0.   0.   0.   0.\n",
      "    0.   0.   0.   0.   0.   0.   0.   0.   0.]\n",
      " [  0.   0.   0.   0.   0.   0.   0.   0.   0.   0.   0.   0.   0.   0.\n",
      "    0.   0.   0.   0.   0.   0.   0.   0.   0.   0.   0.   0.   0.   0.\n",
      "    0.   0.   0.   0.   0.   0.   0.   0.   0.   0.   0.   0.   0.   0.\n",
      "    0.   0.   0.   0.   0.   0.   0.   0.   0.   0.   0.   0.   0.   0.\n",
      "    0.   0.   0.   0.   0.   0.   0.   0.   0.   0.   0.   0.   0.   0.\n",
      "    0.   0.   0.   0.   0.   0.   0.   0.   0.   0.   0.   0.   0.   0.\n",
      "    0.   0.   0.   0.   0.   0.   0.   0.   0.   0.   0.   0.   0.   0.\n",
      "    0.   0.   0.   0.   0.   0.   0.   0.   0.   0.   0.   0.   0.   0.\n",
      "    0.   0.   0.   0.   0.   0.   0.   0.   0.   0.   0.   0.   0.   0.\n",
      "    0.   0.   0.   0.   0.   0.   0.   0.   0.]]\n"
     ]
    }
   ],
   "source": [
    "cuadrito_size = 27\n",
    "#fig, ax = setupPlots(5)\n",
    "for i in range(5,6):\n",
    "    kernel = np.ones((1,cuadrito_size*i))*255\n",
    "    pp2 = Erosion(kernel, a[:, -cuadrito_size*i-2:-2])\n",
    "    print(a[:, -cuadrito_size*i-1:].shape)\n",
    "    #ax[i-1].imshow(pp2, cmap='gray')\n",
    "    print(pp2)\n"
   ]
  },
  {
   "cell_type": "code",
   "execution_count": null,
   "metadata": {},
   "outputs": [],
   "source": []
  }
 ],
 "metadata": {
  "kernelspec": {
   "display_name": "Python 3 (ipykernel)",
   "language": "python",
   "name": "python3"
  },
  "language_info": {
   "codemirror_mode": {
    "name": "ipython",
    "version": 3
   },
   "file_extension": ".py",
   "mimetype": "text/x-python",
   "name": "python",
   "nbconvert_exporter": "python",
   "pygments_lexer": "ipython3",
   "version": "3.9.7"
  },
  "vscode": {
   "interpreter": {
    "hash": "916dbcbb3f70747c44a77c7bcd40155683ae19c65e1c03b4aa3499c5328201f1"
   }
  }
 },
 "nbformat": 4,
 "nbformat_minor": 2
}
