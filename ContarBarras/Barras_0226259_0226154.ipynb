{
 "cells": [
  {
   "cell_type": "markdown",
   "id": "6e0475a6",
   "metadata": {},
   "source": [
    "# Medir gráfica de barras\n",
    "**Ricardo Antonio Gutiérrez Esparza** \\\n",
    "**Juan Marquina Cancino**"
   ]
  },
  {
   "cell_type": "code",
   "execution_count": 1,
   "id": "cc54c493",
   "metadata": {},
   "outputs": [],
   "source": [
    "import cv2\n",
    "import numpy as np\n",
    "import matplotlib.pyplot as plt"
   ]
  },
  {
   "cell_type": "markdown",
   "id": "95bb3915",
   "metadata": {},
   "source": [
    "## Operadores morfológicos"
   ]
  },
  {
   "cell_type": "code",
   "execution_count": 2,
   "id": "09c03659",
   "metadata": {},
   "outputs": [],
   "source": [
    "def Dilation(kernel, img):\n",
    "    '''Para evitar que se salgan del kernel, agregamos ceros a los bordes'''\n",
    "    N = img.shape[0]\n",
    "    M = img.shape[1]\n",
    "\n",
    "    kN = kernel.shape[0]\n",
    "    kM = kernel.shape[1]\n",
    "\n",
    "    kernel = np.array(kernel, dtype=int)\n",
    "    base = np.count_nonzero(kernel)\n",
    "\n",
    "    ans = np.zeros(img.shape)*255\n",
    "    extended = img.copy() \n",
    "    extended = np.append(np.append(np.zeros((kN // 2, M)), extended, axis=0), np.zeros((kN // 2, M)), axis=0)\n",
    "    extended = np.append(np.append(np.zeros((extended.shape[0], kM // 2)), extended, axis=1), np.zeros((extended.shape[0], kM // 2)), axis=1)\n",
    "    for i in range(0,N):\n",
    "        for j in range(0, M):\n",
    "            #print(i, j, i-kN+1, j-kM+1, j+1, kernel.shape)\n",
    "            imgKern = np.array(extended[i:i + kN, j:j + kM], dtype=int)\n",
    "            ##imgKern = img[0:5,0:5]\n",
    "            \n",
    "            #print(imgKern)\n",
    "            imgCheck = imgKern + kernel\n",
    "            imgCheck -= np.ones(imgKern.shape, dtype=int)*255*2\n",
    "            cc = np.count_nonzero(imgCheck==0)\n",
    "            if(cc > 0):\n",
    "                ans[i,j] = 255\n",
    "            else:\n",
    "                ans[i,j] = 0\n",
    "    return ans"
   ]
  },
  {
   "cell_type": "code",
   "execution_count": 3,
   "id": "5dfbb49f",
   "metadata": {},
   "outputs": [],
   "source": [
    "def Erosion(kernel, img):\n",
    "    r''' Los que se salen del kernel, son 0'''\n",
    "    #print(img.size)\n",
    "    #print(img)\n",
    "    N = img.shape[0]\n",
    "    M = img.shape[1]\n",
    "\n",
    "    kN = kernel.shape[0]\n",
    "    kM = kernel.shape[1]\n",
    "\n",
    "    kernel = np.array(kernel, dtype=int)\n",
    "    base = np.count_nonzero(kernel)\n",
    "    #print(base)\n",
    "    ans = np.zeros(img.shape)\n",
    "    for i in range(0+kN-1,N):\n",
    "        for j in range(0+kM-1, M):\n",
    "            #print(i, j, i-kN+1, j-kM+1, j+1, kernel.shape)\n",
    "            imgKern = np.array(img[i-kN+1:i+1, j-kM+1:j+1], dtype=int)\n",
    "            ##imgKern = img[0:5,0:5]\n",
    "            \n",
    "            #print(imgKern)\n",
    "            #print(imgKern)\n",
    "            imgCheck = imgKern + kernel\n",
    "            #print(imgCheck)\n",
    "            imgCheck -= np.ones(imgKern.shape, dtype=int)*255*2\n",
    "            cc = np.count_nonzero(imgCheck==0)\n",
    "            #print(imgCheck)\n",
    "            #return ans\n",
    "            if(base == cc):\n",
    "                ans[i-int(kN/2)][j-int(kM/2)] = 255\n",
    "    return ans\n"
   ]
  },
  {
   "cell_type": "code",
   "execution_count": 4,
   "id": "b5ab2ee4",
   "metadata": {},
   "outputs": [],
   "source": [
    "def Open(kernel, img):\n",
    "    return Dilation(kernel, Erosion(kernel, img))"
   ]
  },
  {
   "cell_type": "code",
   "execution_count": 5,
   "id": "14ae3ae4",
   "metadata": {},
   "outputs": [],
   "source": [
    "def Close(kernel, img):\n",
    "    return Erosion(kernel, Dilation(kernel, img))"
   ]
  },
  {
   "cell_type": "markdown",
   "id": "9c949178",
   "metadata": {},
   "source": [
    "## Preprocesar imagen"
   ]
  },
  {
   "cell_type": "code",
   "execution_count": 6,
   "id": "d1260ede",
   "metadata": {},
   "outputs": [
    {
     "data": {
      "text/plain": [
       "<matplotlib.image.AxesImage at 0x207fe74e7f0>"
      ]
     },
     "execution_count": 6,
     "metadata": {},
     "output_type": "execute_result"
    },
    {
     "data": {
      "image/png": "[encoded data removed]",
      "text/plain": [
       "<Figure size 432x288 with 1 Axes>"
      ]
     },
     "metadata": {
      "needs_background": "light"
     },
     "output_type": "display_data"
    }
   ],
   "source": [
    "# Obtener imagen binaria\n",
    "img = cv2.imread('bars.png', cv2.IMREAD_GRAYSCALE)\n",
    "img = cv2.threshold(img, 250, 255, cv2.THRESH_BINARY)[1]\n",
    "img = 255 - img\n",
    "plt.imshow(img, cmap='gray')"
   ]
  },
  {
   "cell_type": "code",
   "execution_count": 7,
   "id": "89c6ed8b",
   "metadata": {},
   "outputs": [
    {
     "data": {
      "image/png": "[encoded data removed]",
      "text/plain": [
       "<Figure size 432x288 with 1 Axes>"
      ]
     },
     "metadata": {
      "needs_background": "light"
     },
     "output_type": "display_data"
    }
   ],
   "source": [
    "# Recortar imagen\n",
    "img = img[63:219,151:524]\n",
    "plt.imshow(img, cmap='gray')\n",
    "plt.show()"
   ]
  },
  {
   "cell_type": "code",
   "execution_count": 8,
   "id": "e79df8bc",
   "metadata": {},
   "outputs": [
    {
     "data": {
      "text/plain": [
       "<matplotlib.image.AxesImage at 0x2078012b6d0>"
      ]
     },
     "execution_count": 8,
     "metadata": {},
     "output_type": "execute_result"
    },
    {
     "data": {
      "image/png": "[encoded data removed]",
      "text/plain": [
       "<Figure size 432x288 with 1 Axes>"
      ]
     },
     "metadata": {
      "needs_background": "light"
     },
     "output_type": "display_data"
    }
   ],
   "source": [
    "# Eliminar lineas del fondo con un open\n",
    "kernel = np.ones((5,5))*255\n",
    "img = Open(kernel, img)\n",
    "plt.imshow(img, cmap='gray')"
   ]
  },
  {
   "cell_type": "markdown",
   "id": "968bb94f",
   "metadata": {},
   "source": [
    "## Medir barras"
   ]
  },
  {
   "cell_type": "code",
   "execution_count": 9,
   "id": "136a05b6",
   "metadata": {},
   "outputs": [],
   "source": [
    "# Iterar con distintos tamaños de kernel y registrar cuando una barra desaparece (y el respectivo tamaño de kernel)\n",
    "cuts = [60, 140, 230, 300]\n",
    "ans = [-1] * 5\n",
    "\n",
    "for i in range(1, img.shape[0] + 2):\n",
    "    eroded = Erosion(np.ones((i, 1)) * 255, img)\n",
    "    for idx, (low, high) in enumerate(zip([0] + cuts, cuts + [img.shape[1]])):\n",
    "        if np.count_nonzero(eroded[:,low:high]) == 0 and ans[idx] == -1:\n",
    "            ans[idx] = i"
   ]
  },
  {
   "cell_type": "code",
   "execution_count": 10,
   "id": "0cca1c4d",
   "metadata": {},
   "outputs": [
    {
     "name": "stdout",
     "output_type": "stream",
     "text": [
      "Mediciones\n",
      "Barra #0: 157\n",
      "Barra #1: 63\n",
      "Barra #2: 95\n",
      "Barra #3: 157\n",
      "Barra #4: 126\n"
     ]
    }
   ],
   "source": [
    "print('Mediciones')\n",
    "for i, val in enumerate(ans):\n",
    "    print(f'Barra #{i}: {val}')"
   ]
  },
  {
   "cell_type": "code",
   "execution_count": 11,
   "id": "3f6299aa",
   "metadata": {},
   "outputs": [
    {
     "data": {
      "text/plain": [
       "<matplotlib.image.AxesImage at 0x2078009d610>"
      ]
     },
     "execution_count": 11,
     "metadata": {},
     "output_type": "execute_result"
    },
    {
     "data": {
      "image/png": "[encoded data removed]",
      "text/plain": [
       "<Figure size 432x288 with 1 Axes>"
      ]
     },
     "metadata": {
      "needs_background": "light"
     },
     "output_type": "display_data"
    }
   ],
   "source": [
    "plt.imshow(Erosion(np.ones((63, 1)) * 255, img), cmap='gray')"
   ]
  },
  {
   "cell_type": "code",
   "execution_count": 12,
   "id": "1faaedd9",
   "metadata": {},
   "outputs": [
    {
     "data": {
      "text/plain": [
       "<matplotlib.image.AxesImage at 0x2078019d970>"
      ]
     },
     "execution_count": 12,
     "metadata": {},
     "output_type": "execute_result"
    },
    {
     "data": {
      "image/png": "[encoded data removed]",
      "text/plain": [
       "<Figure size 432x288 with 1 Axes>"
      ]
     },
     "metadata": {
      "needs_background": "light"
     },
     "output_type": "display_data"
    }
   ],
   "source": [
    "plt.imshow(Erosion(np.ones((95, 1)) * 255, img), cmap='gray')"
   ]
  },
  {
   "cell_type": "code",
   "execution_count": 13,
   "id": "b0e88aa6",
   "metadata": {},
   "outputs": [
    {
     "data": {
      "text/plain": [
       "<matplotlib.image.AxesImage at 0x20780205910>"
      ]
     },
     "execution_count": 13,
     "metadata": {},
     "output_type": "execute_result"
    },
    {
     "data": {
      "image/png": "[encoded data removed]",
      "text/plain": [
       "<Figure size 432x288 with 1 Axes>"
      ]
     },
     "metadata": {
      "needs_background": "light"
     },
     "output_type": "display_data"
    }
   ],
   "source": [
    "plt.imshow(Erosion(np.ones((126, 1)) * 255, img), cmap='gray')"
   ]
  },
  {
   "cell_type": "code",
   "execution_count": 14,
   "id": "33bf245c",
   "metadata": {},
   "outputs": [
    {
     "data": {
      "text/plain": [
       "<matplotlib.image.AxesImage at 0x20780274f40>"
      ]
     },
     "execution_count": 14,
     "metadata": {},
     "output_type": "execute_result"
    },
    {
     "data": {
      "image/png": "[encoded data removed]",
      "text/plain": [
       "<Figure size 432x288 with 1 Axes>"
      ]
     },
     "metadata": {
      "needs_background": "light"
     },
     "output_type": "display_data"
    }
   ],
   "source": [
    "plt.imshow(Erosion(np.ones((157, 1)) * 255, img), cmap='gray')"
   ]
  }
 ],
 "metadata": {
  "kernelspec": {
   "display_name": "Python 3 (ipykernel)",
   "language": "python",
   "name": "python3"
  },
  "language_info": {
   "codemirror_mode": {
    "name": "ipython",
    "version": 3
   },
   "file_extension": ".py",
   "mimetype": "text/x-python",
   "name": "python",
   "nbconvert_exporter": "python",
   "pygments_lexer": "ipython3",
   "version": "3.9.7"
  }
 },
 "nbformat": 4,
 "nbformat_minor": 5
}
